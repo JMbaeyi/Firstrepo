{
 "cells": [
  {
   "cell_type": "markdown",
   "id": "d430cb52-f1b2-41a3-86ac-e9e9010c9fed",
   "metadata": {},
   "source": [
    "# Data Science Tools and Ecosystem"
   ]
  },
  {
   "cell_type": "markdown",
   "id": "fb69e64c-a525-4445-bfe8-465131d39c42",
   "metadata": {},
   "source": [
    "## In this notebook, Data Science Tools and Ecosystem are summarized"
   ]
  },
  {
   "cell_type": "markdown",
   "id": "2d8e2047-821f-44d1-bc4f-e40857edafc1",
   "metadata": {},
   "source": [
    "**Objectives:**\n",
    "- List popular languages for Data Science\n",
    "- Create a table of Data Science tools\n",
    "- List popular libraries Data scientists use\n",
    "- Write a code to convert minutes to hours\n",
    "- Write a code for a simple arithmetic expression to multiply the add integers"
   ]
  },
  {
   "cell_type": "markdown",
   "id": "c47ae1f5-7d97-4a73-a894-8dc47cb32d54",
   "metadata": {},
   "source": [
    "## Some of the popular languages that Data Scientists use are:\n",
    "1. Python\n",
    "2. R\n",
    "3. SQL"
   ]
  },
  {
   "cell_type": "markdown",
   "id": "200b1f52-44d5-4618-9026-56e51c661ef6",
   "metadata": {},
   "source": [
    "## Some of the commonly used libraries used by Data Scientists include:\n",
    "1. Pandas\n",
    "2. Matplotlib\n",
    "3. Tensorflow\n",
    "4. NUmpy"
   ]
  },
  {
   "cell_type": "markdown",
   "id": "a1f94933-5f9f-4bcb-bd82-cbaae78cdcaf",
   "metadata": {},
   "source": [
    "|Data Science Tools|\n",
    "|------------------|\n",
    "|Jupyter (notebook/lab)|\n",
    "|R studio|\n",
    "|Apache zeppelin|"
   ]
  },
  {
   "cell_type": "markdown",
   "id": "6755bbec-2d43-4971-ad6a-64a1c24f01a6",
   "metadata": {},
   "source": [
    "### Below are a few examples of evaluating arithmetic expressions in Python"
   ]
  },
  {
   "cell_type": "code",
   "execution_count": null,
   "id": "18234863-68e0-426b-9c8f-dc7b7d942ca7",
   "metadata": {
    "tags": []
   },
   "outputs": [],
   "source": [
    "# This a simple arithmetic expression to mutiply then add integers\n",
    "\n",
    "simp_art = (3*4)+5\n",
    "print(simp_art)"
   ]
  },
  {
   "cell_type": "code",
   "execution_count": null,
   "id": "9550db6c-3fb3-4c58-a5b8-7cce679a5b96",
   "metadata": {
    "tags": []
   },
   "outputs": [],
   "source": [
    "#This will convert 200 minutes to hours by diving by 60\n",
    "\n",
    "minutes = 200\n",
    "hours = minutes/60\n",
    "print(hours)"
   ]
  },
  {
   "cell_type": "markdown",
   "id": "b8e28b28-0e66-4c2c-94c7-66a9094188fe",
   "metadata": {},
   "source": [
    "## Author\n",
    "Mbaeyi Chibuikem"
   ]
  }
 ],
 "metadata": {
  "kernelspec": {
   "display_name": "Python 3 (ipykernel)",
   "language": "python",
   "name": "python3"
  },
  "language_info": {
   "codemirror_mode": {
    "name": "ipython",
    "version": 3
   },
   "file_extension": ".py",
   "mimetype": "text/x-python",
   "name": "python",
   "nbconvert_exporter": "python",
   "pygments_lexer": "ipython3",
   "version": "3.11.4"
  }
 },
 "nbformat": 4,
 "nbformat_minor": 5
}
